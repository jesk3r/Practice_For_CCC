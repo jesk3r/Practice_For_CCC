{
 "cells": [
  {
   "cell_type": "code",
   "execution_count": 123,
   "metadata": {},
   "outputs": [
    {
     "name": "stdout",
     "output_type": "stream",
     "text": [
      "Enter numbers: 1 2 3 4\n",
      "Enter numbers: 1 3 4 5\n",
      "Enter numbers: 1 2 4 5\n",
      "Enter numbers: 1 5 3 1\n"
     ]
    }
   ],
   "source": [
    "squre = [input(\"Enter numbers: \").split(), input(\"Enter numbers: \").split(),input(\"Enter numbers: \").split() ,input(\"Enter numbers: \").split()]\n",
    "\n"
   ]
  },
  {
   "cell_type": "code",
   "execution_count": 124,
   "metadata": {},
   "outputs": [],
   "source": [
    "suml = lambda a,b,c : int(a[b][c]) + int(a[b][c+1]) + int(a[b][c+2]) + int(a[b][c+3])\n",
    "\n",
    "sumd = lambda a,b,c : int(a[b][c]) +  int(a[b+1][c]) +  int(a[b+2][c]) +  int(a[b+3][c]) \n"
   ]
  },
  {
   "cell_type": "code",
   "execution_count": 122,
   "metadata": {
    "scrolled": false
   },
   "outputs": [
    {
     "name": "stdout",
     "output_type": "stream",
     "text": [
      "magic\n"
     ]
    }
   ],
   "source": [
    "r1 = suml(s,1,0)\n",
    "\n",
    "sidesum = []\n",
    "botsum = []\n",
    "\n",
    "\n",
    "for i in range(0,4):\n",
    "    sidesum.append(suml(squre,i,0))\n",
    "\n",
    "\n",
    "for i in range(0,4):\n",
    "    botsum.append(sumd(squre,0,i))\n",
    "\n",
    "\n",
    "if sidesum == botsum:\n",
    "    print(\"magic\")\n",
    "else:\n",
    "    print(\"not magic\")\n"
   ]
  }
 ],
 "metadata": {
  "kernelspec": {
   "display_name": "Python 3",
   "language": "python",
   "name": "python3"
  },
  "language_info": {
   "codemirror_mode": {
    "name": "ipython",
    "version": 3
   },
   "file_extension": ".py",
   "mimetype": "text/x-python",
   "name": "python",
   "nbconvert_exporter": "python",
   "pygments_lexer": "ipython3",
   "version": "3.5.0"
  }
 },
 "nbformat": 4,
 "nbformat_minor": 2
}
